{
 "cells": [
  {
   "cell_type": "code",
   "execution_count": 1,
   "id": "5a67f3b2",
   "metadata": {},
   "outputs": [],
   "source": [
    "import numpy as np\n",
    "import matplotlib.pyplot as plt\n",
    "from sklearn.model_selection import train_test_split\n",
    "from sklearn.preprocessing import StandardScaler\n",
    "from sklearn.neighbors import KNeighborsClassifier\n",
    "from sklearn.metrics import accuracy_score, classification_report\n",
    "from sklearn.datasets import fetch_openml\n",
    "from sklearn.ensemble import ExtraTreesClassifier\n",
    "import joblib\n",
    "from sklearn.ensemble import RandomForestClassifier"
   ]
  },
  {
   "cell_type": "code",
   "execution_count": 2,
   "id": "d0fc190a",
   "metadata": {},
   "outputs": [
    {
     "name": "stdout",
     "output_type": "stream",
     "text": [
      "Cross-validation noggrannhet: [0.97128571 0.972      0.96978571 0.96642857 0.97278571]\n",
      "Medelvärde: 0.970457\n",
      "Standardavvikelse: 0.002244\n",
      "Slutlig KNN Noggrannhet (testset): 0.971286\n",
      "              precision    recall  f1-score   support\n",
      "\n",
      "           0       0.98      0.99      0.98      1343\n",
      "           1       0.96      0.99      0.98      1600\n",
      "           2       0.97      0.97      0.97      1380\n",
      "           3       0.97      0.96      0.97      1433\n",
      "           4       0.97      0.96      0.97      1295\n",
      "           5       0.98      0.97      0.97      1273\n",
      "           6       0.98      0.99      0.99      1396\n",
      "           7       0.97      0.98      0.97      1503\n",
      "           8       0.99      0.94      0.96      1357\n",
      "           9       0.96      0.95      0.96      1420\n",
      "\n",
      "    accuracy                           0.97     14000\n",
      "   macro avg       0.97      0.97      0.97     14000\n",
      "weighted avg       0.97      0.97      0.97     14000\n",
      "\n"
     ]
    }
   ],
   "source": [
    "from sklearn.datasets import fetch_openml\n",
    "from sklearn.model_selection import train_test_split, cross_val_score\n",
    "from sklearn.neighbors import KNeighborsClassifier\n",
    "from sklearn.metrics import accuracy_score, classification_report\n",
    "import numpy as np\n",
    "\n",
    "# Ladda MNIST-datasetet\n",
    "mnist = fetch_openml('mnist_784', version=1, cache=True, as_frame=False)\n",
    "\n",
    "X = mnist[\"data\"]\n",
    "y = mnist[\"target\"].astype(np.uint8)\n",
    "\n",
    "# Normalisera data\n",
    "X = X / 255.0\n",
    "\n",
    "# 🔹 Cross-validation innan train-test-split\n",
    "knn = KNeighborsClassifier(n_neighbors=3)\n",
    "\n",
    "cv_scores = cross_val_score(knn, X, y, cv=5, scoring='accuracy')\n",
    "\n",
    "print(f\"Cross-validation noggrannhet: {cv_scores}\")\n",
    "print(f\"Medelvärde: {np.mean(cv_scores):.6f}\")\n",
    "print(f\"Standardavvikelse: {np.std(cv_scores):.6f}\")\n",
    "\n",
    "# 🔹 Train-test-split för slutlig utvärdering\n",
    "X_train, X_test, y_train, y_test = train_test_split(X, y, test_size=0.2, random_state=42)\n",
    "\n",
    "knn.fit(X_train, y_train)  # Träna på hela träningsdatan\n",
    "\n",
    "# Gör prediktioner\n",
    "y_pred = knn.predict(X_test)\n",
    "\n",
    "# Utvärdera modellen\n",
    "accuracy = accuracy_score(y_test, y_pred)\n",
    "print(f\"Slutlig KNN Noggrannhet (testset): {accuracy:.6f}\")\n",
    "\n",
    "# Mer detaljerad utvärdering\n",
    "print(classification_report(y_test, y_pred))\n"
   ]
  },
  {
   "cell_type": "code",
   "execution_count": 3,
   "id": "ce04c64a",
   "metadata": {},
   "outputs": [
    {
     "name": "stdout",
     "output_type": "stream",
     "text": [
      "Cross-validation noggrannhet: [0.97057143 0.96842857 0.968      0.96685714 0.97385714]\n",
      "Medelvärde: 0.969543\n",
      "Standardavvikelse: 0.002470\n",
      "Slutlig Random Forest Noggrannhet (testset): 0.969429\n",
      "              precision    recall  f1-score   support\n",
      "\n",
      "           0       0.99      0.99      0.99      1343\n",
      "           1       0.99      0.99      0.99      1600\n",
      "           2       0.95      0.97      0.96      1380\n",
      "           3       0.96      0.95      0.96      1433\n",
      "           4       0.97      0.97      0.97      1295\n",
      "           5       0.97      0.96      0.97      1273\n",
      "           6       0.98      0.98      0.98      1396\n",
      "           7       0.97      0.97      0.97      1503\n",
      "           8       0.96      0.96      0.96      1357\n",
      "           9       0.96      0.95      0.96      1420\n",
      "\n",
      "    accuracy                           0.97     14000\n",
      "   macro avg       0.97      0.97      0.97     14000\n",
      "weighted avg       0.97      0.97      0.97     14000\n",
      "\n"
     ]
    }
   ],
   "source": [
    "from sklearn.datasets import fetch_openml\n",
    "from sklearn.model_selection import train_test_split, cross_val_score\n",
    "from sklearn.ensemble import RandomForestClassifier\n",
    "from sklearn.metrics import accuracy_score, classification_report\n",
    "import numpy as np\n",
    "import joblib\n",
    "\n",
    "# Ladda MNIST-datasetet\n",
    "mnist = fetch_openml('mnist_784', version=1, cache=True, as_frame=False)\n",
    "\n",
    "X = mnist[\"data\"]\n",
    "y = mnist[\"target\"].astype(np.uint8)\n",
    "\n",
    "# Normalisera data\n",
    "X = X / 255.0\n",
    "\n",
    "# 🔹 Cross-validation innan train-test-split\n",
    "rf = RandomForestClassifier(n_estimators=400, random_state=42, n_jobs=-1)\n",
    "\n",
    "cv_scores = cross_val_score(rf, X, y, cv=5, scoring='accuracy')\n",
    "\n",
    "print(f\"Cross-validation noggrannhet: {cv_scores}\")\n",
    "print(f\"Medelvärde: {np.mean(cv_scores):.6f}\")\n",
    "print(f\"Standardavvikelse: {np.std(cv_scores):.6f}\")\n",
    "\n",
    "# 🔹 Train-test-split för slutlig utvärdering\n",
    "X_train, X_test, y_train, y_test = train_test_split(X, y, test_size=0.2, random_state=42)\n",
    "\n",
    "rf.fit(X_train, y_train)  # Träna på hela träningsdatan\n",
    "\n",
    "# Gör prediktioner\n",
    "y_pred_rf = rf.predict(X_test)\n",
    "\n",
    "# Utvärdera modellen\n",
    "accuracy_rf = accuracy_score(y_test, y_pred_rf)\n",
    "print(f\"Slutlig Random Forest Noggrannhet (testset): {accuracy_rf:.6f}\")\n",
    "\n",
    "# Spara modellen\n",
    "joblib.dump(rf, 'random_forest_model.pkl')\n",
    "\n",
    "# Träna på hela datasetet\n",
    "\n",
    "rf.fit(X, y)  # Träna på hela datasetet inför produktionssättning\n",
    "\n",
    "# Spara modellen\n",
    "joblib.dump(rf, 'random_forest_model_full_data.pkl')\n",
    "\n",
    "\n",
    "# Mer detaljerad utvärdering\n",
    "print(classification_report(y_test, y_pred_rf))\n"
   ]
  },
  {
   "cell_type": "code",
   "execution_count": 4,
   "id": "1a6cba1e",
   "metadata": {},
   "outputs": [
    {
     "name": "stdout",
     "output_type": "stream",
     "text": [
      "Cross-validation noggrannhet: [0.97169643 0.97169643 0.973125   0.97267857 0.97080357]\n",
      "Medelvärde: 0.972000\n",
      "Standardavvikelse: 0.000818\n"
     ]
    }
   ],
   "source": [
    "from sklearn.model_selection import cross_val_score\n",
    "\n",
    "# Extra Trees modell\n",
    "et = ExtraTreesClassifier(n_estimators=300, random_state=42)\n",
    "\n",
    "# Cross-validation\n",
    "cv_scores_et = cross_val_score(et, X_train, y_train, cv=5, scoring='accuracy')\n",
    "\n",
    "# Visa resultat\n",
    "print(f\"Cross-validation noggrannhet: {cv_scores_et}\")\n",
    "print(f\"Medelvärde: {cv_scores_et.mean():.6f}\")\n",
    "print(f\"Standardavvikelse: {cv_scores_et.std():.6f}\")"
   ]
  }
 ],
 "metadata": {
  "kernelspec": {
   "display_name": "Python_course",
   "language": "python",
   "name": "python3"
  },
  "language_info": {
   "codemirror_mode": {
    "name": "ipython",
    "version": 3
   },
   "file_extension": ".py",
   "mimetype": "text/x-python",
   "name": "python",
   "nbconvert_exporter": "python",
   "pygments_lexer": "ipython3",
   "version": "3.12.3"
  }
 },
 "nbformat": 4,
 "nbformat_minor": 5
}
